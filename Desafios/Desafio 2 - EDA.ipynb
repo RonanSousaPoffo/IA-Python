{
 "cells": [
  {
   "cell_type": "markdown",
   "metadata": {},
   "source": [
    "### Desafio - EDA\n",
    "\n",
    "Dessa base, analise e extraia:\n",
    "\n",
    "- Tipos de dados disponíveis\n",
    "- Período da análise feita\n",
    "- Tamanho da base de dados\n",
    "- Verificar dados nulos\n",
    "- Outliers"
   ]
  },
  {
   "cell_type": "code",
   "execution_count": null,
   "metadata": {},
   "outputs": [],
   "source": [
    "import pandas as pd "
   ]
  },
  {
   "cell_type": "code",
   "execution_count": null,
   "metadata": {},
   "outputs": [],
   "source": [
    "# Carregar DataFrame de Clientes (Customers)\n",
    "df_netflix = pd.read_csv('netflix daily top 10 Desafio 2 - EDA.csv');"
   ]
  }
 ],
 "metadata": {
  "kernelspec": {
   "display_name": "IA-Python-Fkw-_Id1",
   "language": "python",
   "name": "python3"
  },
  "language_info": {
   "codemirror_mode": {
    "name": "ipython",
    "version": 3
   },
   "file_extension": ".py",
   "mimetype": "text/x-python",
   "name": "python",
   "nbconvert_exporter": "python",
   "pygments_lexer": "ipython3",
   "version": "3.12.4"
  }
 },
 "nbformat": 4,
 "nbformat_minor": 2
}
